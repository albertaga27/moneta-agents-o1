{
 "cells": [
  {
   "cell_type": "code",
   "execution_count": 1,
   "metadata": {},
   "outputs": [],
   "source": [
    "import json\n",
    "import os\n",
    "import logging\n",
    "from typing import Dict, Any, List\n",
    "from datetime import datetime\n",
    "import random\n",
    "\n",
    "from azure.core.credentials import AzureKeyCredential\n",
    "from azure.identity import DefaultAzureCredential\n",
    "from crm_store import CRMStore\n",
    "from skills.account_opening_tools import *\n",
    "\n",
    "from dotenv import load_dotenv"
   ]
  },
  {
   "cell_type": "code",
   "execution_count": 2,
   "metadata": {},
   "outputs": [
    {
     "data": {
      "text/plain": [
       "True"
      ]
     },
     "execution_count": 2,
     "metadata": {},
     "output_type": "execute_result"
    }
   ],
   "source": [
    "load_dotenv()"
   ]
  },
  {
   "cell_type": "markdown",
   "metadata": {},
   "source": [
    "## Atomic functions testing"
   ]
  },
  {
   "cell_type": "code",
   "execution_count": null,
   "metadata": {},
   "outputs": [
    {
     "name": "stderr",
     "output_type": "stream",
     "text": [
      "ERROR:root:Error in create_prospect: Invalid URL scheme or hostname: SplitResult(scheme='', netloc='', path='', query='', fragment='')\n"
     ]
    }
   ],
   "source": [
    "# 0. Delete a client/prospect if already existing in cosmos\n",
    "try:\n",
    "    # Example of how to pull from environment variables:\n",
    "    cosmosdb_endpoint = os.getenv(\"COSMOSDB_ENDPOINT\") or \"\"\n",
    "    crm_database_name = os.getenv(\"COSMOSDB_DATABASE_NAME\") or \"\"\n",
    "    crm_container_name = os.getenv(\"COSMOSDB_CONTAINER_CLIENT_NAME\") or \"\"\n",
    "    key=DefaultAzureCredential()\n",
    "    \n",
    "    crm_db = CRMStore(\n",
    "            url=cosmosdb_endpoint,\n",
    "            key=key,\n",
    "            database_name=crm_database_name,\n",
    "            container_name=crm_container_name\n",
    "    )\n",
    "\n",
    "    crm_db.delete_customer_profile(\"PROSP1400\")\n",
    "\n",
    "except Exception as e:\n",
    "    logging.error(f\"Error in delete_customer_profile: {str(e)}\")\n"
   ]
  },
  {
   "cell_type": "code",
   "execution_count": 4,
   "metadata": {},
   "outputs": [
    {
     "name": "stdout",
     "output_type": "stream",
     "text": [
      "{\"clientID\": \"PROSP3368\", \"firstName\": \"Tom\", \"lastName\": \"Kocinsky\", \"referral_source\": \"advisor\", \"id\": \"PROSP3368\", \"fullName\": \"Tom Kocinsky\", \"dateOfBirth\": \"1976/12/03\", \"nationality\": \"US\", \"contactDetails\": {\"email\": \"\", \"phone\": \"\"}, \"status\": \"KYC data collected successfully.\", \"pep_status\": false, \"risk_level\": \"\", \"risk_score\": 0, \"documents_provided\": [], \"name_screening_result\": \"None\", \"investmentProfile\": {\"riskProfile\": \"\", \"investmentObjectives\": \"\", \"investmentHorizon\": \"\"}, \"_rid\": \"TJJPANstunINAAAAAAAAAA==\", \"_self\": \"dbs/TJJPAA==/colls/TJJPANstunI=/docs/TJJPANstunINAAAAAAAAAA==/\", \"_etag\": \"\\\"030154fb-0000-4700-0000-67afa5000000\\\"\", \"_attachments\": \"attachments/\", \"_ts\": 1739564288}\n"
     ]
    }
   ],
   "source": [
    "\n",
    "# 1. Create prospect\n",
    "result = create_prospect(\"Tom\", \"Kocinsky\", \"1976/12/03\", \"US\", \"advisor\")\n",
    "print(result)"
   ]
  },
  {
   "cell_type": "code",
   "execution_count": 22,
   "metadata": {},
   "outputs": [
    {
     "name": "stdout",
     "output_type": "stream",
     "text": [
      "{\"clientID\": \"PROSP3368\", \"firstName\": \"Tom\", \"lastName\": \"Kocinsky\", \"referral_source\": \"advisor\", \"id\": \"PROSP3368\", \"fullName\": \"Tom Kocinsky\", \"dateOfBirth\": \"1976/12/03\", \"nationality\": \"US\", \"contactDetails\": {\"email\": \"\", \"phone\": \"\"}, \"status\": \"KYC data collected successfully\", \"pep_status\": false, \"risk_level\": \"\", \"risk_score\": 0, \"documents_provided\": [], \"name_screening_result\": \"\", \"investmentProfile\": {\"riskProfile\": \"\", \"investmentObjectives\": \"\", \"investmentHorizon\": \"\"}, \"_rid\": \"TJJPANstunINAAAAAAAAAA==\", \"_self\": \"dbs/TJJPAA==/colls/TJJPANstunI=/docs/TJJPANstunINAAAAAAAAAA==/\", \"_etag\": \"\\\"000081a2-0000-4700-0000-67d144a50000\\\"\", \"_attachments\": \"attachments/\", \"declared_source_of_wealth\": \"\", \"onboarding\": [{\"timestamp\": \"2025-03-11T09:41:01.627152\", \"step\": \"First KYC checks passed.\", \"action\": \"First KYC checks passed.: Compliance status is First KYC checks passed.\"}, {\"timestamp\": \"2025-03-11T09:41:08.845308\", \"step\": \"Assigned to human review (first line of defence)\", \"action\": \"Assigned to human review (first line of defence): Waiting for first compliance approval\"}], \"compliance_flags\": [], \"_ts\": 1741767845}\n"
     ]
    }
   ],
   "source": [
    "prospect_str = fetch_prospect_details(\"Tom Koc\")\n",
    "print(prospect_str)"
   ]
  },
  {
   "cell_type": "code",
   "execution_count": null,
   "metadata": {},
   "outputs": [],
   "source": [
    "current_status = \"KYC data collected successfully\"\n",
    "upd_prospect = json.loads(prospect_str)\n",
    "upd_prospect['status'] = current_status\n",
    "upd_prospect[\"risk_level\"] =  \"\"\n",
    "upd_prospect[\"risk_score\"] =  0\n",
    "upd_prospect[\"name_screening_result\"] = \"\"\n",
    "upd_prospect[\"onboarding\"] = []\n",
    "upd_prospect[\"declared_source_of_wealth\"] =  \"\"\n",
    "prospect = update_prospect_details(upd_prospect['clientID'],upd_prospect)"
   ]
  },
  {
   "cell_type": "markdown",
   "metadata": {},
   "source": [
    "## o1 orchestration "
   ]
  },
  {
   "cell_type": "code",
   "execution_count": 19,
   "metadata": {},
   "outputs": [],
   "source": [
    "from openai import AzureOpenAI\n",
    "\n",
    "# Initialize OpenAI clients\n",
    "def get_openai_client(key, endpoint, deployment):\n",
    "    return AzureOpenAI(\n",
    "        api_key=os.getenv(key),\n",
    "        api_version=\"2025-01-01-preview\",\n",
    "        azure_endpoint=os.getenv(endpoint),\n",
    "        azure_deployment=os.getenv(deployment)\n",
    "    )"
   ]
  },
  {
   "cell_type": "code",
   "execution_count": 20,
   "metadata": {},
   "outputs": [],
   "source": [
    "def call_o1(client, scenario):\n",
    "    current_path = os.getcwd()\n",
    "    file_path = os.path.join(current_path, 'accountopening/business_logic.txt')\n",
    "    business_logic = \"\"\n",
    "    with open(file_path, 'r') as file:\n",
    "        business_logic = file.read()\n",
    "\n",
    "    # Prompt templates\n",
    "    O1_PROMPT = \"\"\"\n",
    "You are a an account opening assistant focusing on orchestrating a full end to end workflow of private banking investement account opening\n",
    "that involve several steps.\n",
    "You are a planner. The input you will receive (the scenario) include the current status of the workflow in the field \"status\" of the prospect_data.\n",
    "Your task is to review the status and understand which are the next steps to execute next (following the example plan in order below) by creating a plan.\n",
    "\n",
    "You will have access to an LLM agent that is responsible for executing the plan that you create and will return results.\n",
    "\n",
    "The LLM agent has access to the following functions:\n",
    "{tools}\n",
    "\n",
    "When creating a plan for the LLM to execute, break your instructions into a logical, step-by-step order, using the specified format:\n",
    "    - **Main actions are marked with numbers** (e.g., 1, 2, 3.).\n",
    "    - **Sub-actions are under their relevant main actions** \n",
    "        - **Sub-actions should start on new lines**\n",
    "    - **Specify conditions using clear 'if...then...else' statements** (e.g., 'If the status was approved, then...').\n",
    "    - **Include any function parameters from the scenario according to each that are required from each step**\n",
    "    - **For actions that require using one of the above functions defined**, write a step to call a function using backticks for the function name (e.g., `call the load_from_crm_by_client_fullname function`).\n",
    "        - Ensure that the proper input arguments are given to the model for instruction. There should not be any ambiguity in the inputs.\n",
    "    - **The last step** in the instructions should always be calling the `instructions_complete` function. This is necessary so we know the LLM has completed all of the instructions you have given it.\n",
    "    - **Make the plan simple** Do not add steps on the plan when they are not needed.\n",
    "    - **Generate summary** Before the `instructions_complete` ask the LLM to make a summary of the actions.\n",
    "Use markdown format when generating the plan with each step and sub-step.\n",
    "\n",
    "Please find the scenario below.\n",
    "{scenario}\n",
    "\n",
    "---\n",
    "\n",
    "### Guidance Plan\n",
    "\n",
    "Below is the ruleset of how you need to structure your final plan, including condition checks, steps/sub-steps, and function calls:\n",
    "{business_logic}\n",
    "\n",
    "\"\"\"       \n",
    "        \n",
    "    prompt= O1_PROMPT.replace(\"{tools}\",str(TOOLS)).replace(\"{scenario}\",str(scenario)).replace(\"{business_logic}\",str(business_logic))\n",
    "    \n",
    "    response = client.chat.completions.create(\n",
    "        model=os.getenv(\"O1_OPENAI_DEPLOYMENT_NAME\"),\n",
    "        messages=[{'role': 'user', 'content': prompt}]\n",
    "    )\n",
    "    \n",
    "    plan = response.choices[0].message.content\n",
    "    print(f\"📟 Response from o1 plan: {plan}\")\n",
    "    return plan"
   ]
  },
  {
   "cell_type": "markdown",
   "metadata": {},
   "source": [
    "### Testing o1 planner"
   ]
  },
  {
   "cell_type": "code",
   "execution_count": 21,
   "metadata": {},
   "outputs": [
    {
     "name": "stdout",
     "output_type": "stream",
     "text": [
      "📟 Response from o1 plan: **Plan**\n",
      "\n",
      "1. *(Already Completed)* **KYC Information**  \n",
      "   - The status indicates “KYC data collected successfully,” so this step is complete.\n",
      "\n",
      "2. **Gather Source of Wealth**  \n",
      "   - 2.1 `call the collect_sow_info function` with:  \n",
      "     ```json\n",
      "     {\n",
      "       \"prospect_data\": {\n",
      "         \"clientID\": \"PROSP3368\",\n",
      "         \"firstName\": \"Tom\",\n",
      "         \"lastName\": \"Kocinsky\",\n",
      "         \"dateOfBirth\": \"1976/12/03\",\n",
      "         \"nationality\": \"US\"\n",
      "       }\n",
      "     }\n",
      "     ```\n",
      "   - 2.2 If the returned status is “SOW information captured,” proceed to step **3**. Else go to step **8**.\n",
      "\n",
      "3. **Perform Data Management & AI Extraction**  \n",
      "   - 3.1 `call the perform_data_management_ai_extraction function` with:  \n",
      "     ```json\n",
      "     {\n",
      "       \"prospect_data\": {\n",
      "         \"clientID\": \"PROSP3368\",\n",
      "         \"documents_provided\": []\n",
      "       }\n",
      "     }\n",
      "     ```\n",
      "   - 3.2 If the returned status is “Documents AI extraction completed,” proceed to step **4**. Else go to step **8**.\n",
      "\n",
      "4. **Perform Name Screening**  \n",
      "   - 4.1 `call the perform_name_screening function` with:  \n",
      "     ```json\n",
      "     {\n",
      "       \"prospect_data\": {\n",
      "         \"clientID\": \"PROSP3368\",\n",
      "         \"firstName\": \"Tom\",\n",
      "         \"lastName\": \"Kocinsky\",\n",
      "         \"dateOfBirth\": \"1976/12/03\",\n",
      "         \"nationality\": \"US\"\n",
      "       }\n",
      "     }\n",
      "     ```\n",
      "   - 4.2 If the returned status is “Name screening: Cleared,” proceed to step **5**. Else go to step **8**.\n",
      "\n",
      "5. **Create Client Profile**  \n",
      "   - 5.1 `call the create_client_profile function` with (placeholders shown, fill actual risk data once known):  \n",
      "     ```json\n",
      "     {\n",
      "       \"prospect_data\": {\n",
      "         \"clientID\": \"PROSP3368\",\n",
      "         \"risk_level\": \"\",\n",
      "         \"risk_score\": 0,\n",
      "         \"nationality\": \"US\"\n",
      "       },\n",
      "       \"name_screening_result\": \"\"\n",
      "     }\n",
      "     ```\n",
      "   - 5.2 If returned status is “Client risk profile assessed,” proceed to step **6**. Else go to step **8**.\n",
      "\n",
      "6. **Compliance & Risk Assessment**  \n",
      "   - 6.1 `call the perform_compliance_risk_assessment function` with:  \n",
      "     ```json\n",
      "     {\n",
      "       \"prospect_data\": {\n",
      "         \"clientID\": \"PROSP3368\",\n",
      "         \"name_screening_result\": \"\",\n",
      "         \"risk_level\": \"\",\n",
      "         \"risk_score\": 0\n",
      "       }\n",
      "     }\n",
      "     ```\n",
      "   - 6.2 Go to step **8**.\n",
      "\n",
      "7. *(Not needed in this scenario since first line of defence was already assigned.)*\n",
      "\n",
      "**Summary of Actions**  \n",
      "- We skip KYC collection (already complete).  \n",
      "- Next, gather source of wealth.  \n",
      "- Then perform AI extraction on provided documents (if any).  \n",
      "- Name screening follows.  \n",
      "- Create client risk profile.  \n",
      "- Finally, perform compliance & risk assessment.  \n",
      "\n",
      "8. **Complete Instructions**  \n",
      "   - `call the instructions_complete function` to end the process.\n",
      "{'role': 'assistant', 'name': 'o1 Planner', 'content': '**Plan**\\n\\n1. *(Already Completed)* **KYC Information**  \\n   - The status indicates “KYC data collected successfully,” so this step is complete.\\n\\n2. **Gather Source of Wealth**  \\n   - 2.1 `call the collect_sow_info function` with:  \\n     ```json\\n     {\\n       \"prospect_data\": {\\n         \"clientID\": \"PROSP3368\",\\n         \"firstName\": \"Tom\",\\n         \"lastName\": \"Kocinsky\",\\n         \"dateOfBirth\": \"1976/12/03\",\\n         \"nationality\": \"US\"\\n       }\\n     }\\n     ```\\n   - 2.2 If the returned status is “SOW information captured,” proceed to step **3**. Else go to step **8**.\\n\\n3. **Perform Data Management & AI Extraction**  \\n   - 3.1 `call the perform_data_management_ai_extraction function` with:  \\n     ```json\\n     {\\n       \"prospect_data\": {\\n         \"clientID\": \"PROSP3368\",\\n         \"documents_provided\": []\\n       }\\n     }\\n     ```\\n   - 3.2 If the returned status is “Documents AI extraction completed,” proceed to step **4**. Else go to step **8**.\\n\\n4. **Perform Name Screening**  \\n   - 4.1 `call the perform_name_screening function` with:  \\n     ```json\\n     {\\n       \"prospect_data\": {\\n         \"clientID\": \"PROSP3368\",\\n         \"firstName\": \"Tom\",\\n         \"lastName\": \"Kocinsky\",\\n         \"dateOfBirth\": \"1976/12/03\",\\n         \"nationality\": \"US\"\\n       }\\n     }\\n     ```\\n   - 4.2 If the returned status is “Name screening: Cleared,” proceed to step **5**. Else go to step **8**.\\n\\n5. **Create Client Profile**  \\n   - 5.1 `call the create_client_profile function` with (placeholders shown, fill actual risk data once known):  \\n     ```json\\n     {\\n       \"prospect_data\": {\\n         \"clientID\": \"PROSP3368\",\\n         \"risk_level\": \"\",\\n         \"risk_score\": 0,\\n         \"nationality\": \"US\"\\n       },\\n       \"name_screening_result\": \"\"\\n     }\\n     ```\\n   - 5.2 If returned status is “Client risk profile assessed,” proceed to step **6**. Else go to step **8**.\\n\\n6. **Compliance & Risk Assessment**  \\n   - 6.1 `call the perform_compliance_risk_assessment function` with:  \\n     ```json\\n     {\\n       \"prospect_data\": {\\n         \"clientID\": \"PROSP3368\",\\n         \"name_screening_result\": \"\",\\n         \"risk_level\": \"\",\\n         \"risk_score\": 0\\n       }\\n     }\\n     ```\\n   - 6.2 Go to step **8**.\\n\\n7. *(Not needed in this scenario since first line of defence was already assigned.)*\\n\\n**Summary of Actions**  \\n- We skip KYC collection (already complete).  \\n- Next, gather source of wealth.  \\n- Then perform AI extraction on provided documents (if any).  \\n- Name screening follows.  \\n- Create client risk profile.  \\n- Finally, perform compliance & risk assessment.  \\n\\n8. **Complete Instructions**  \\n   - `call the instructions_complete function` to end the process.'}\n"
     ]
    }
   ],
   "source": [
    "o1_client = get_openai_client(\"O1_OPENAI_API_KEY\", \"O1_OPENAI_ENDPOINT\", \"O1_OPENAI_DEPLOYMENT_NAME\")\n",
    "\n",
    "prospect_test = fetch_prospect_details(\"Tom Koc\")\n",
    "\n",
    "#o1 planner agent part\n",
    "o1_response = call_o1(o1_client, prospect_test)\n",
    "o1_reply = {\n",
    "    'role': 'assistant',\n",
    "    'name': 'o1 Planner',\n",
    "    'content': o1_response\n",
    "}\n",
    "print( o1_reply )"
   ]
  },
  {
   "cell_type": "markdown",
   "metadata": {},
   "source": [
    "Execution (4o-mini) agent"
   ]
  },
  {
   "cell_type": "code",
   "execution_count": 9,
   "metadata": {},
   "outputs": [],
   "source": [
    "def call_gpt4o(client, plan):\n",
    "        GPT4O_SYSTEM_PROMPT = \"\"\"\n",
    "You are a helpful assistant responsible for executing a plan about account opening.\n",
    "Your task is to:\n",
    "1. Follow the plan exactly as written\n",
    "2. Use the available tools to execute each step\n",
    "3. Provide clear explanations of what you're doing\n",
    "4. Always respond with some content explaining your actions\n",
    "5. Call the instructions_complete function only when all steps are done\n",
    "6. Never write or execute code\n",
    "7. In your response, do not add things like \"I have succesfully do this and that...\" or \"This should provide you with the content you asked for...\"\n",
    "\n",
    "PLAN TO EXECUTE:\n",
    "{plan}\n",
    "\n",
    "Remember to explain each action you take and provide status updates.\n",
    "\"\"\"\n",
    "        \n",
    "        gpt4o_policy_prompt = GPT4O_SYSTEM_PROMPT.replace(\"{plan}\", plan)\n",
    "        messages = [{'role': 'system', 'content': gpt4o_policy_prompt}]\n",
    "\n",
    "        while True:\n",
    "            response = client.chat.completions.create(\n",
    "                model=os.getenv(\"AZURE_OPENAI_DEPLOYMENT_NAME\"),\n",
    "                messages=messages,\n",
    "                tools=TOOLS,\n",
    "                parallel_tool_calls=False\n",
    "            )\n",
    "            #self.logger.info(f\" Response from 4o agent:\\n {response}\")\n",
    "            \n",
    "            assistant_message = response.choices[0].message.model_dump()\n",
    "            messages.append(assistant_message)\n",
    "   \n",
    "            if not response.choices[0].message.tool_calls:\n",
    "                continue\n",
    "\n",
    "            for tool in response.choices[0].message.tool_calls:\n",
    "                if tool.function.name == 'instructions_complete':\n",
    "                    return messages\n",
    "\n",
    "                function_name = tool.function.name \n",
    "              \n",
    "                print(f\"📟 Executing function: {function_name}\")\n",
    "                try:\n",
    "                    arguments = json.loads(tool.function.arguments)\n",
    "                    print(f\"📟 ...with arguments: {arguments}\")\n",
    "                    function_response = FUNCTION_MAPPING[function_name](**arguments)\n",
    "                  \n",
    "                    print( f\"{function_name}: {json.dumps(function_response)}\")\n",
    "                    print(\"Function executed successfully!\")\n",
    "                    print(function_response)\n",
    "                    \n",
    "                    messages.append({\n",
    "                        \"role\": \"tool\",\n",
    "                        \"tool_call_id\": tool.id,\n",
    "                        \"content\": json.dumps(function_response)\n",
    "                    })\n",
    "                    \n",
    "                except Exception as e:\n",
    "                    print('error', f\"Error in {function_name}: {str(e)}\")"
   ]
  },
  {
   "cell_type": "markdown",
   "metadata": {},
   "source": [
    "## Testing 4o Execution"
   ]
  },
  {
   "cell_type": "code",
   "execution_count": 10,
   "metadata": {},
   "outputs": [
    {
     "name": "stdout",
     "output_type": "stream",
     "text": [
      "📟 Executing function: collect_sow_info\n",
      "📟 ...with arguments: {'prospect_data': {'clientID': 'PROSP3368', 'firstName': 'Tom', 'lastName': 'Kocinsky', 'dateOfBirth': '1976/12/03', 'nationality': 'US'}}\n",
      "collect_sow_info: {\"onboarding\": [{\"timestamp\": \"2025-03-11T09:40:23.026991\", \"step\": \"SOW information captured\", \"action\": \"SOW information captured: \"}], \"status\": \"SOW information captured\"}\n",
      "Function executed successfully!\n",
      "{'onboarding': [{'timestamp': '2025-03-11T09:40:23.026991', 'step': 'SOW information captured', 'action': 'SOW information captured: '}], 'status': 'SOW information captured'}\n",
      "📟 Executing function: perform_data_management_ai_extraction\n",
      "📟 ...with arguments: {'prospect_data': {'clientID': 'PROSP3368', 'documents_provided': []}}\n",
      "perform_data_management_ai_extraction: {\"extracted_fields\": {}, \"status\": \"Documents AI extraction completed\"}\n",
      "Function executed successfully!\n",
      "{'extracted_fields': {}, 'status': 'Documents AI extraction completed'}\n",
      "📟 Executing function: perform_name_screening\n",
      "📟 ...with arguments: {'prospect_data': {'clientID': 'PROSP3368', 'firstName': 'Tom', 'lastName': 'Kocinsky', 'dateOfBirth': '1976/12/03', 'nationality': 'US'}}\n",
      "perform_name_screening: {\"name_screening_result\": \"No match\", \"status\": \"Name screening: Cleared\"}\n",
      "Function executed successfully!\n",
      "{'name_screening_result': 'No match', 'status': 'Name screening: Cleared'}\n",
      "📟 Executing function: create_client_profile\n",
      "📟 ...with arguments: {'prospect_data': {'clientID': 'PROSP3368', 'risk_level': '', 'risk_score': 0, 'nationality': 'US'}, 'name_screening_result': 'No match'}\n",
      "create_client_profile: {\"risk_score\": 0, \"risk_level\": \"Low\", \"status\": \"Client risk profile assessed\"}\n",
      "Function executed successfully!\n",
      "{'risk_score': 0, 'risk_level': 'Low', 'status': 'Client risk profile assessed'}\n",
      "📟 Executing function: perform_compliance_risk_assessment\n",
      "📟 ...with arguments: {'prospect_data': {'clientID': 'PROSP3368', 'name_screening_result': 'No match', 'risk_level': 'Low'}}\n",
      "perform_compliance_risk_assessment: {\"overall_status\": \"First KYC checks passed.\", \"flagged_issues\": []}\n",
      "Function executed successfully!\n",
      "{'overall_status': 'First KYC checks passed.', 'flagged_issues': []}\n",
      "📟 Executing function: assign_first_line_of_defence\n",
      "📟 ...with arguments: {'prospect_data': {'clientID': 'PROSP3368'}}\n",
      "assign_first_line_of_defence: {\"status\": \"Assigned to human review (first line of defence)\"}\n",
      "Function executed successfully!\n",
      "{'status': 'Assigned to human review (first line of defence)'}\n",
      "4o status: ['To execute the plan for opening an account, we will follow these steps in order:\\n\\n1. **Check KYC Information**  \\n   - The prospect\\'s KYC status is confirmed as \"KYC data collected successfully.\" This means the mandatory fields are completed, allowing us to skip the `collect_kyc_info` function. We can move forward with the prospect data provided.\\n\\n2. **Gather Source of Wealth**  \\n   We will call the `collect_sow_info` function with the provided prospect data:\\n\\n   ```json\\n   {\\n     \"name\": \"collect_sow_info\",\\n     \"arguments\": {\\n       \"prospect_data\": {\\n         \"clientID\": \"PROSP3368\",\\n         \"firstName\": \"Tom\",\\n         \"lastName\": \"Kocinsky\",\\n         \"dateOfBirth\": \"1976/12/03\",\\n         \"nationality\": \"US\"\\n       }\\n     }\\n   }\\n   ```\\n\\n   Let\\'s proceed with collecting the source of wealth information.', 'The Source of Wealth (SOW) information has been successfully captured. We can now proceed to the next step.\\n\\n3. **Perform Data Management & AI Extraction**  \\n   We will call the `perform_data_management_ai_extraction` function with the given prospect data. Since no documents are provided, the documents_provided field will remain empty:\\n\\n   ```json\\n   {\\n     \"name\": \"perform_data_management_ai_extraction\",\\n     \"arguments\": {\\n       \"prospect_data\": {\\n         \"clientID\": \"PROSP3368\",\\n         \"documents_provided\": []\\n       }\\n     }\\n   }\\n   ```\\n\\n   Let\\'s perform data management and extraction of documents if necessary.', 'The AI-based document extraction process has been completed successfully. Next, we move on to:\\n\\n4. **Perform Name Screening**  \\n   We will call the `perform_name_screening` function with the prospect\\'s information:\\n\\n   ```json\\n   {\\n     \"name\": \"perform_name_screening\",\\n     \"arguments\": {\\n       \"prospect_data\": {\\n         \"clientID\": \"PROSP3368\",\\n         \"firstName\": \"Tom\",\\n         \"lastName\": \"Kocinsky\",\\n         \"dateOfBirth\": \"1976/12/03\",\\n         \"nationality\": \"US\"\\n       }\\n     }\\n   }\\n   ```\\n\\n   Let\\'s perform the name screening.', 'The name screening has been successfully cleared with no matches found. We can now proceed to:\\n\\n5. **Create Client Profile**  \\n   We\\'ll call the `create_client_profile` function with the following prospect data and name screening result:\\n\\n   ```json\\n   {\\n     \"name\": \"create_client_profile\",\\n     \"arguments\": {\\n       \"prospect_data\": {\\n         \"clientID\": \"PROSP3368\",\\n         \"risk_level\": \"\",\\n         \"risk_score\": 0,\\n         \"nationality\": \"US\"\\n       },\\n       \"name_screening_result\": \"No match\"\\n     }\\n   }\\n   ```\\n\\n   Let\\'s create the client profile based on this information.', 'The client\\'s risk profile has been successfully assessed and is determined to be of \"Low\" risk. We now proceed to:\\n\\n6. **Compliance & Risk Assessment**  \\n   We\\'ll call the `perform_compliance_risk_assessment` function with the following data:\\n\\n   ```json\\n   {\\n     \"name\": \"perform_compliance_risk_assessment\",\\n     \"arguments\": {\\n       \"prospect_data\": {\\n         \"clientID\": \"PROSP3368\",\\n         \"name_screening_result\": \"No match\",\\n         \"risk_level\": \"Low\"\\n       }\\n     }\\n   }\\n   ```\\n\\n   Let\\'s conduct the compliance and risk assessment.', 'The compliance and risk assessment is complete with the status \"First KYC checks passed,\" indicating no flagged issues. Moving ahead:\\n\\n7. **First Line of Defence**  \\n   We will call the `assign_first_line_of_defence` function:\\n\\n   ```json\\n   {\\n     \"name\": \"assign_first_line_of_defence\",\\n     \"arguments\": {\\n       \"prospect_data\": {\\n         \"clientID\": \"PROSP3368\"\\n       }\\n     }\\n   }\\n   ```\\n\\n   Let\\'s assign the case to the first line of defence for review.', 'The case has been assigned to human review as part of the first line of defence. This concludes the account opening process for the prospect.\\n\\n**Summary:**\\n1. KYC data was already complete.\\n2. Source of Wealth information was captured.\\n3. AI extraction on documents (if any) was completed successfully.\\n4. The name screening was cleared with \"No match.\"\\n5. A client risk profile was created, assessed as \"Low\" risk.\\n6. Compliance and risk assessment was completed with no issues flagged.\\n7. The case was assigned to the first line of defence for formal review.\\n\\nNext, I will call the `instructions_complete` function to signal the end of the process.']\n"
     ]
    }
   ],
   "source": [
    "client = get_openai_client(\"AZURE_OPENAI_API_KEY\", \"AZURE_OPENAI_ENDPOINT\", \"AZURE_OPENAI_DEPLOYMENT_NAME\")\n",
    "\n",
    "#4o executor part\n",
    "ex_response = call_gpt4o(client, o1_response)\n",
    "\n",
    "# Filter assistant messages that have actual content\n",
    "assistants_4o_contents = [\n",
    "    msg['content'] for msg in ex_response \n",
    "    if msg.get('role') == 'assistant' and msg.get('content') is not None\n",
    "]\n",
    "\n",
    "print( f\"4o status: {assistants_4o_contents}\")"
   ]
  },
  {
   "cell_type": "code",
   "execution_count": null,
   "metadata": {},
   "outputs": [],
   "source": []
  }
 ],
 "metadata": {
  "kernelspec": {
   "display_name": ".venv",
   "language": "python",
   "name": "python3"
  },
  "language_info": {
   "codemirror_mode": {
    "name": "ipython",
    "version": 3
   },
   "file_extension": ".py",
   "mimetype": "text/x-python",
   "name": "python",
   "nbconvert_exporter": "python",
   "pygments_lexer": "ipython3",
   "version": "3.12.7"
  }
 },
 "nbformat": 4,
 "nbformat_minor": 2
}
